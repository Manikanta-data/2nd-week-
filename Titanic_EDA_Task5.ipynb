{
 "cells": [
  {
   "cell_type": "code",
   "execution_count": null,
   "id": "f0e5f68e",
   "metadata": {},
   "outputs": [],
   "source": [
    "\n",
    "import pandas as pd\n",
    "import numpy as np\n",
    "import seaborn as sns\n",
    "import matplotlib.pyplot as plt\n",
    "\n",
    "# Display settings\n",
    "sns.set(style=\"whitegrid\")\n",
    "plt.style.use('ggplot')\n",
    "%matplotlib inline\n"
   ]
  },
  {
   "cell_type": "code",
   "execution_count": null,
   "id": "1e46fdc5",
   "metadata": {},
   "outputs": [],
   "source": [
    "\n",
    "df = pd.read_csv(\"train.csv\")  # Update with correct path if needed\n",
    "df.head()\n"
   ]
  },
  {
   "cell_type": "code",
   "execution_count": null,
   "id": "2aee7256",
   "metadata": {},
   "outputs": [],
   "source": [
    "\n",
    "# Shape and Data Types\n",
    "print(\"Dataset Shape:\", df.shape)\n",
    "df.info()\n",
    "\n",
    "# Summary statistics\n",
    "df.describe()\n",
    "\n",
    "# Check missing values\n",
    "df.isnull().sum()\n"
   ]
  },
  {
   "cell_type": "code",
   "execution_count": null,
   "id": "a2814919",
   "metadata": {},
   "outputs": [],
   "source": [
    "\n",
    "# Categorical: Survival Count\n",
    "sns.countplot(data=df, x='Survived')\n",
    "plt.title('Survival Count')\n",
    "plt.show()\n",
    "\n",
    "# Categorical: Passenger Class\n",
    "sns.countplot(data=df, x='Pclass')\n",
    "plt.title('Passenger Class Distribution')\n",
    "plt.show()\n",
    "\n",
    "# Numerical: Age Distribution\n",
    "sns.histplot(data=df, x='Age', kde=True)\n",
    "plt.title('Age Distribution')\n",
    "plt.show()\n",
    "\n",
    "# Fare\n",
    "sns.histplot(data=df, x='Fare', kde=True)\n",
    "plt.title('Fare Distribution')\n",
    "plt.show()\n"
   ]
  },
  {
   "cell_type": "code",
   "execution_count": null,
   "id": "37ca4d35",
   "metadata": {},
   "outputs": [],
   "source": [
    "\n",
    "# Survival by Gender\n",
    "sns.countplot(data=df, x='Sex', hue='Survived')\n",
    "plt.title('Survival by Gender')\n",
    "plt.show()\n",
    "\n",
    "# Survival by Class\n",
    "sns.countplot(data=df, x='Pclass', hue='Survived')\n",
    "plt.title('Survival by Passenger Class')\n",
    "plt.show()\n",
    "\n",
    "# Age vs Survival\n",
    "sns.boxplot(data=df, x='Survived', y='Age')\n",
    "plt.title('Age vs Survival')\n",
    "plt.show()\n",
    "\n",
    "# Fare vs Survival\n",
    "sns.boxplot(data=df, x='Survived', y='Fare')\n",
    "plt.title('Fare vs Survival')\n",
    "plt.show()\n"
   ]
  },
  {
   "cell_type": "code",
   "execution_count": null,
   "id": "92efdc38",
   "metadata": {},
   "outputs": [],
   "source": [
    "\n",
    "# Correlation Matrix\n",
    "plt.figure(figsize=(10,6))\n",
    "sns.heatmap(df.corr(), annot=True, cmap='coolwarm', linewidths=0.5)\n",
    "plt.title('Correlation Heatmap')\n",
    "plt.show()\n",
    "\n",
    "# Pairplot\n",
    "sns.pairplot(df[['Survived', 'Pclass', 'Age', 'Fare']], hue='Survived')\n",
    "plt.show()\n"
   ]
  },
  {
   "cell_type": "code",
   "execution_count": null,
   "id": "f3fdd684",
   "metadata": {},
   "outputs": [],
   "source": [
    "\n",
    "# Fill Age with median\n",
    "df['Age'].fillna(df['Age'].median(), inplace=True)\n",
    "\n",
    "# Drop Cabin due to many nulls\n",
    "df.drop(columns=['Cabin'], inplace=True)\n",
    "\n",
    "# Drop rows with any remaining nulls\n",
    "df.dropna(inplace=True)\n"
   ]
  },
  {
   "cell_type": "markdown",
   "id": "672aed7c",
   "metadata": {},
   "source": [
    "\n",
    "### Insights:\n",
    "\n",
    "- Survival rate was higher among females.\n",
    "- Younger passengers had a slightly higher survival rate.\n",
    "- Higher fare and upper-class (Pclass=1) passengers had better survival chances.\n",
    "- Strong correlation between Pclass and Fare.\n",
    "\n",
    "These trends suggest socio-economic status played a significant role in survival chances.\n"
   ]
  }
 ],
 "metadata": {},
 "nbformat": 4,
 "nbformat_minor": 5
}